{
 "cells": [
  {
   "cell_type": "markdown",
   "metadata": {},
   "source": [
    "Importing Necessary Libraries:"
   ]
  },
  {
   "cell_type": "code",
   "execution_count": 253,
   "metadata": {},
   "outputs": [],
   "source": [
    "import pandas as pd\n",
    "import numpy as np\n",
    "import matplotlib.pyplot as plt\n",
    "import seaborn as sns\n",
    "\n",
    "from sklearn.model_selection import train_test_split\n",
    "from sklearn.pipeline import Pipeline, make_pipeline\n",
    "from imblearn.over_sampling import SMOTE"
   ]
  },
  {
   "cell_type": "markdown",
   "metadata": {},
   "source": [
    "Loading and Pre-Processing Dataset:"
   ]
  },
  {
   "cell_type": "code",
   "execution_count": 254,
   "metadata": {},
   "outputs": [],
   "source": [
    "# read dataset:\n",
    "df = pd.read_csv(r\"data/creditcard.csv\")"
   ]
  },
  {
   "cell_type": "code",
   "execution_count": 255,
   "metadata": {},
   "outputs": [
    {
     "data": {
      "text/html": [
       "<div>\n",
       "<style scoped>\n",
       "    .dataframe tbody tr th:only-of-type {\n",
       "        vertical-align: middle;\n",
       "    }\n",
       "\n",
       "    .dataframe tbody tr th {\n",
       "        vertical-align: top;\n",
       "    }\n",
       "\n",
       "    .dataframe thead th {\n",
       "        text-align: right;\n",
       "    }\n",
       "</style>\n",
       "<table border=\"1\" class=\"dataframe\">\n",
       "  <thead>\n",
       "    <tr style=\"text-align: right;\">\n",
       "      <th></th>\n",
       "      <th>Time</th>\n",
       "      <th>V1</th>\n",
       "      <th>V2</th>\n",
       "      <th>V3</th>\n",
       "      <th>V4</th>\n",
       "      <th>V5</th>\n",
       "      <th>V6</th>\n",
       "      <th>V7</th>\n",
       "      <th>V8</th>\n",
       "      <th>V9</th>\n",
       "      <th>...</th>\n",
       "      <th>V21</th>\n",
       "      <th>V22</th>\n",
       "      <th>V23</th>\n",
       "      <th>V24</th>\n",
       "      <th>V25</th>\n",
       "      <th>V26</th>\n",
       "      <th>V27</th>\n",
       "      <th>V28</th>\n",
       "      <th>Amount</th>\n",
       "      <th>Class</th>\n",
       "    </tr>\n",
       "  </thead>\n",
       "  <tbody>\n",
       "    <tr>\n",
       "      <th>0</th>\n",
       "      <td>0.0</td>\n",
       "      <td>-1.359807</td>\n",
       "      <td>-0.072781</td>\n",
       "      <td>2.536347</td>\n",
       "      <td>1.378155</td>\n",
       "      <td>-0.338321</td>\n",
       "      <td>0.462388</td>\n",
       "      <td>0.239599</td>\n",
       "      <td>0.098698</td>\n",
       "      <td>0.363787</td>\n",
       "      <td>...</td>\n",
       "      <td>-0.018307</td>\n",
       "      <td>0.277838</td>\n",
       "      <td>-0.110474</td>\n",
       "      <td>0.066928</td>\n",
       "      <td>0.128539</td>\n",
       "      <td>-0.189115</td>\n",
       "      <td>0.133558</td>\n",
       "      <td>-0.021053</td>\n",
       "      <td>149.62</td>\n",
       "      <td>0</td>\n",
       "    </tr>\n",
       "    <tr>\n",
       "      <th>1</th>\n",
       "      <td>0.0</td>\n",
       "      <td>1.191857</td>\n",
       "      <td>0.266151</td>\n",
       "      <td>0.166480</td>\n",
       "      <td>0.448154</td>\n",
       "      <td>0.060018</td>\n",
       "      <td>-0.082361</td>\n",
       "      <td>-0.078803</td>\n",
       "      <td>0.085102</td>\n",
       "      <td>-0.255425</td>\n",
       "      <td>...</td>\n",
       "      <td>-0.225775</td>\n",
       "      <td>-0.638672</td>\n",
       "      <td>0.101288</td>\n",
       "      <td>-0.339846</td>\n",
       "      <td>0.167170</td>\n",
       "      <td>0.125895</td>\n",
       "      <td>-0.008983</td>\n",
       "      <td>0.014724</td>\n",
       "      <td>2.69</td>\n",
       "      <td>0</td>\n",
       "    </tr>\n",
       "    <tr>\n",
       "      <th>2</th>\n",
       "      <td>1.0</td>\n",
       "      <td>-1.358354</td>\n",
       "      <td>-1.340163</td>\n",
       "      <td>1.773209</td>\n",
       "      <td>0.379780</td>\n",
       "      <td>-0.503198</td>\n",
       "      <td>1.800499</td>\n",
       "      <td>0.791461</td>\n",
       "      <td>0.247676</td>\n",
       "      <td>-1.514654</td>\n",
       "      <td>...</td>\n",
       "      <td>0.247998</td>\n",
       "      <td>0.771679</td>\n",
       "      <td>0.909412</td>\n",
       "      <td>-0.689281</td>\n",
       "      <td>-0.327642</td>\n",
       "      <td>-0.139097</td>\n",
       "      <td>-0.055353</td>\n",
       "      <td>-0.059752</td>\n",
       "      <td>378.66</td>\n",
       "      <td>0</td>\n",
       "    </tr>\n",
       "    <tr>\n",
       "      <th>3</th>\n",
       "      <td>1.0</td>\n",
       "      <td>-0.966272</td>\n",
       "      <td>-0.185226</td>\n",
       "      <td>1.792993</td>\n",
       "      <td>-0.863291</td>\n",
       "      <td>-0.010309</td>\n",
       "      <td>1.247203</td>\n",
       "      <td>0.237609</td>\n",
       "      <td>0.377436</td>\n",
       "      <td>-1.387024</td>\n",
       "      <td>...</td>\n",
       "      <td>-0.108300</td>\n",
       "      <td>0.005274</td>\n",
       "      <td>-0.190321</td>\n",
       "      <td>-1.175575</td>\n",
       "      <td>0.647376</td>\n",
       "      <td>-0.221929</td>\n",
       "      <td>0.062723</td>\n",
       "      <td>0.061458</td>\n",
       "      <td>123.50</td>\n",
       "      <td>0</td>\n",
       "    </tr>\n",
       "    <tr>\n",
       "      <th>4</th>\n",
       "      <td>2.0</td>\n",
       "      <td>-1.158233</td>\n",
       "      <td>0.877737</td>\n",
       "      <td>1.548718</td>\n",
       "      <td>0.403034</td>\n",
       "      <td>-0.407193</td>\n",
       "      <td>0.095921</td>\n",
       "      <td>0.592941</td>\n",
       "      <td>-0.270533</td>\n",
       "      <td>0.817739</td>\n",
       "      <td>...</td>\n",
       "      <td>-0.009431</td>\n",
       "      <td>0.798278</td>\n",
       "      <td>-0.137458</td>\n",
       "      <td>0.141267</td>\n",
       "      <td>-0.206010</td>\n",
       "      <td>0.502292</td>\n",
       "      <td>0.219422</td>\n",
       "      <td>0.215153</td>\n",
       "      <td>69.99</td>\n",
       "      <td>0</td>\n",
       "    </tr>\n",
       "  </tbody>\n",
       "</table>\n",
       "<p>5 rows × 31 columns</p>\n",
       "</div>"
      ],
      "text/plain": [
       "   Time        V1        V2        V3        V4        V5        V6        V7  \\\n",
       "0   0.0 -1.359807 -0.072781  2.536347  1.378155 -0.338321  0.462388  0.239599   \n",
       "1   0.0  1.191857  0.266151  0.166480  0.448154  0.060018 -0.082361 -0.078803   \n",
       "2   1.0 -1.358354 -1.340163  1.773209  0.379780 -0.503198  1.800499  0.791461   \n",
       "3   1.0 -0.966272 -0.185226  1.792993 -0.863291 -0.010309  1.247203  0.237609   \n",
       "4   2.0 -1.158233  0.877737  1.548718  0.403034 -0.407193  0.095921  0.592941   \n",
       "\n",
       "         V8        V9  ...       V21       V22       V23       V24       V25  \\\n",
       "0  0.098698  0.363787  ... -0.018307  0.277838 -0.110474  0.066928  0.128539   \n",
       "1  0.085102 -0.255425  ... -0.225775 -0.638672  0.101288 -0.339846  0.167170   \n",
       "2  0.247676 -1.514654  ...  0.247998  0.771679  0.909412 -0.689281 -0.327642   \n",
       "3  0.377436 -1.387024  ... -0.108300  0.005274 -0.190321 -1.175575  0.647376   \n",
       "4 -0.270533  0.817739  ... -0.009431  0.798278 -0.137458  0.141267 -0.206010   \n",
       "\n",
       "        V26       V27       V28  Amount  Class  \n",
       "0 -0.189115  0.133558 -0.021053  149.62      0  \n",
       "1  0.125895 -0.008983  0.014724    2.69      0  \n",
       "2 -0.139097 -0.055353 -0.059752  378.66      0  \n",
       "3 -0.221929  0.062723  0.061458  123.50      0  \n",
       "4  0.502292  0.219422  0.215153   69.99      0  \n",
       "\n",
       "[5 rows x 31 columns]"
      ]
     },
     "execution_count": 255,
     "metadata": {},
     "output_type": "execute_result"
    }
   ],
   "source": [
    "# see dataset -- take a glance\n",
    "df.head()"
   ]
  },
  {
   "cell_type": "markdown",
   "metadata": {},
   "source": [
    "See the range of values in each column:"
   ]
  },
  {
   "cell_type": "code",
   "execution_count": 257,
   "metadata": {},
   "outputs": [
    {
     "name": "stdout",
     "output_type": "stream",
     "text": [
      "Time range: 204.0, 172522.19\n",
      "V1 range: -16.04, 2.34\n",
      "V2 range: -15.13, 7.85\n",
      "V3 range: -9.87, 3.39\n",
      "V4 range: -4.16, 6.24\n",
      "V5 range: -9.41, 8.07\n",
      "V6 range: -5.29, 6.16\n",
      "V7 range: -9.37, 7.97\n",
      "V8 range: -13.1, 6.14\n",
      "V9 range: -3.31, 5.96\n",
      "V10 range: -5.21, 9.13\n",
      "V11 range: -2.74, 3.84\n",
      "V12 range: -5.7, 2.74\n",
      "V13 range: -3.1, 3.24\n",
      "V14 range: -7.34, 3.87\n",
      "V15 range: -3.19, 2.63\n",
      "V16 range: -4.03, 2.71\n",
      "V17 range: -5.7, 4.05\n",
      "V18 range: -3.35, 2.67\n",
      "V19 range: -2.98, 3.39\n",
      "V20 range: -6.62, 5.81\n",
      "V21 range: -5.49, 7.88\n",
      "V22 range: -3.12, 2.26\n",
      "V23 range: -5.45, 4.76\n",
      "V24 range: -2.0, 1.25\n",
      "V25 range: -2.4, 1.87\n",
      "V26 range: -1.28, 2.25\n",
      "V27 range: -3.82, 2.61\n",
      "V28 range: -2.63, 2.1\n",
      "Amount range: 0.0, 3000.0\n",
      "Class range: 0.0, 1.0\n"
     ]
    }
   ],
   "source": [
    "for col in df.columns:\n",
    "    print(f\"{col} range: {round(df[col].quantile(0.001), 2)}, {round(df[col].quantile(0.999), 2)}\")"
   ]
  },
  {
   "cell_type": "code",
   "execution_count": 258,
   "metadata": {},
   "outputs": [
    {
     "data": {
      "text/plain": [
       "Index(['Time', 'V1', 'V2', 'V3', 'V4', 'V5', 'V6', 'V7', 'V8', 'V9', 'V10',\n",
       "       'V11', 'V12', 'V13', 'V14', 'V15', 'V16', 'V17', 'V18', 'V19', 'V20',\n",
       "       'V21', 'V22', 'V23', 'V24', 'V25', 'V26', 'V27', 'V28', 'Amount',\n",
       "       'Class'],\n",
       "      dtype='object')"
      ]
     },
     "execution_count": 258,
     "metadata": {},
     "output_type": "execute_result"
    }
   ],
   "source": [
    "# all column names:\n",
    "df.columns"
   ]
  },
  {
   "cell_type": "code",
   "execution_count": 259,
   "metadata": {},
   "outputs": [
    {
     "name": "stdout",
     "output_type": "stream",
     "text": [
      "Shape of dataset is: (284807, 31)\n"
     ]
    }
   ],
   "source": [
    "print(f\"Shape of dataset is: {df.shape}\")"
   ]
  },
  {
   "cell_type": "code",
   "execution_count": 260,
   "metadata": {},
   "outputs": [],
   "source": [
    "# Drop time column:\n",
    "df = df.drop(\"Time\", axis = 1)"
   ]
  },
  {
   "cell_type": "code",
   "execution_count": 261,
   "metadata": {},
   "outputs": [
    {
     "name": "stdout",
     "output_type": "stream",
     "text": [
      "New shape of dataset is: (284807, 30)\n"
     ]
    }
   ],
   "source": [
    "print(f\"New shape of dataset is: {df.shape}\")"
   ]
  },
  {
   "cell_type": "code",
   "execution_count": 262,
   "metadata": {},
   "outputs": [
    {
     "data": {
      "text/plain": [
       "9144"
      ]
     },
     "execution_count": 262,
     "metadata": {},
     "output_type": "execute_result"
    }
   ],
   "source": [
    "# check duplicated rows:\n",
    "df.duplicated().sum()"
   ]
  },
  {
   "cell_type": "code",
   "execution_count": 263,
   "metadata": {},
   "outputs": [],
   "source": [
    "# Drop the duplicated rows:\n",
    "df = df.drop_duplicates()"
   ]
  },
  {
   "cell_type": "code",
   "execution_count": 264,
   "metadata": {},
   "outputs": [],
   "source": [
    "df.reset_index(inplace=True, drop= True)"
   ]
  },
  {
   "cell_type": "code",
   "execution_count": 265,
   "metadata": {},
   "outputs": [
    {
     "name": "stdout",
     "output_type": "stream",
     "text": [
      "New shape of dataset is: (275663, 30)\n"
     ]
    }
   ],
   "source": [
    "print(f\"New shape of dataset is: {df.shape}\")"
   ]
  },
  {
   "cell_type": "code",
   "execution_count": 266,
   "metadata": {},
   "outputs": [
    {
     "data": {
      "text/plain": [
       "False"
      ]
     },
     "execution_count": 266,
     "metadata": {},
     "output_type": "execute_result"
    }
   ],
   "source": [
    "# checking null values:\n",
    "df.isnull().sum().any()"
   ]
  },
  {
   "cell_type": "code",
   "execution_count": 267,
   "metadata": {},
   "outputs": [],
   "source": [
    "X = df.drop(\"Class\", axis=1)\n",
    "y = df[\"Class\"]"
   ]
  },
  {
   "cell_type": "markdown",
   "metadata": {},
   "source": [
    "Checking Whether it needs -- Dimensionality Reduction or NOT -- Based on Correlation:"
   ]
  },
  {
   "cell_type": "code",
   "execution_count": 269,
   "metadata": {},
   "outputs": [],
   "source": [
    "from sklearn.decomposition import PCA\n",
    "from sklearn.preprocessing import StandardScaler"
   ]
  },
  {
   "cell_type": "code",
   "execution_count": 270,
   "metadata": {},
   "outputs": [],
   "source": [
    "pca = PCA(n_components=0.98)\n",
    "sc = StandardScaler()"
   ]
  },
  {
   "cell_type": "code",
   "execution_count": 271,
   "metadata": {},
   "outputs": [],
   "source": [
    "X_scaled = sc.fit_transform(X)"
   ]
  },
  {
   "cell_type": "code",
   "execution_count": 272,
   "metadata": {},
   "outputs": [
    {
     "data": {
      "text/plain": [
       "(275663, 29)"
      ]
     },
     "execution_count": 272,
     "metadata": {},
     "output_type": "execute_result"
    }
   ],
   "source": [
    "X_scaled.shape"
   ]
  },
  {
   "cell_type": "code",
   "execution_count": 273,
   "metadata": {},
   "outputs": [],
   "source": [
    "X_pca = pca.fit_transform(X_scaled)"
   ]
  },
  {
   "cell_type": "code",
   "execution_count": 274,
   "metadata": {},
   "outputs": [
    {
     "data": {
      "text/plain": [
       "(275663, 28)"
      ]
     },
     "execution_count": 274,
     "metadata": {},
     "output_type": "execute_result"
    }
   ],
   "source": [
    "X_pca.shape"
   ]
  },
  {
   "cell_type": "markdown",
   "metadata": {},
   "source": [
    "```Here, There is NO Need of PCA, Since feature variable is very weakly correlated.```"
   ]
  },
  {
   "cell_type": "code",
   "execution_count": 275,
   "metadata": {},
   "outputs": [],
   "source": [
    "# plt.figure(figsize=(20, 34))\n",
    "# sns.heatmap(np.corrcoef(X_pca.T), annot=True)"
   ]
  },
  {
   "cell_type": "code",
   "execution_count": 277,
   "metadata": {},
   "outputs": [
    {
     "name": "stdout",
     "output_type": "stream",
     "text": [
      "<class 'pandas.core.frame.DataFrame'>\n",
      "RangeIndex: 275663 entries, 0 to 275662\n",
      "Data columns (total 30 columns):\n",
      " #   Column  Non-Null Count   Dtype  \n",
      "---  ------  --------------   -----  \n",
      " 0   V1      275663 non-null  float64\n",
      " 1   V2      275663 non-null  float64\n",
      " 2   V3      275663 non-null  float64\n",
      " 3   V4      275663 non-null  float64\n",
      " 4   V5      275663 non-null  float64\n",
      " 5   V6      275663 non-null  float64\n",
      " 6   V7      275663 non-null  float64\n",
      " 7   V8      275663 non-null  float64\n",
      " 8   V9      275663 non-null  float64\n",
      " 9   V10     275663 non-null  float64\n",
      " 10  V11     275663 non-null  float64\n",
      " 11  V12     275663 non-null  float64\n",
      " 12  V13     275663 non-null  float64\n",
      " 13  V14     275663 non-null  float64\n",
      " 14  V15     275663 non-null  float64\n",
      " 15  V16     275663 non-null  float64\n",
      " 16  V17     275663 non-null  float64\n",
      " 17  V18     275663 non-null  float64\n",
      " 18  V19     275663 non-null  float64\n",
      " 19  V20     275663 non-null  float64\n",
      " 20  V21     275663 non-null  float64\n",
      " 21  V22     275663 non-null  float64\n",
      " 22  V23     275663 non-null  float64\n",
      " 23  V24     275663 non-null  float64\n",
      " 24  V25     275663 non-null  float64\n",
      " 25  V26     275663 non-null  float64\n",
      " 26  V27     275663 non-null  float64\n",
      " 27  V28     275663 non-null  float64\n",
      " 28  Amount  275663 non-null  float64\n",
      " 29  Class   275663 non-null  int64  \n",
      "dtypes: float64(29), int64(1)\n",
      "memory usage: 63.1 MB\n",
      "None\n"
     ]
    }
   ],
   "source": [
    "print(df.info())"
   ]
  },
  {
   "cell_type": "markdown",
   "metadata": {},
   "source": [
    "In my dataset --> ```all columns have NUmerical datatype```."
   ]
  },
  {
   "cell_type": "code",
   "execution_count": 278,
   "metadata": {},
   "outputs": [],
   "source": [
    "# plt.figure(figsize = (8,4))\n",
    "# x = 0\n",
    "# for _ in df.columns[:-1]:\n",
    "#     sns.histplot(data = df, x = _, kde = True)\n",
    "#     print(\"\\n\")\n",
    "#     plt.show()"
   ]
  },
  {
   "cell_type": "code",
   "execution_count": 279,
   "metadata": {},
   "outputs": [
    {
     "data": {
      "text/plain": [
       "<Axes: xlabel='Class'>"
      ]
     },
     "execution_count": 279,
     "metadata": {},
     "output_type": "execute_result"
    },
    {
     "data": {
      "image/png": "[encoded data removed]",
      "text/plain": [
       "<Figure size 1200x400 with 1 Axes>"
      ]
     },
     "metadata": {},
     "output_type": "display_data"
    }
   ],
   "source": [
    "df[\"Class\"].value_counts().plot(kind = \"bar\", figsize=(12,4))"
   ]
  },
  {
   "cell_type": "code",
   "execution_count": 280,
   "metadata": {},
   "outputs": [
    {
     "data": {
      "text/plain": [
       "Class\n",
       "0    275190\n",
       "1       473\n",
       "Name: count, dtype: int64"
      ]
     },
     "execution_count": 280,
     "metadata": {},
     "output_type": "execute_result"
    }
   ],
   "source": [
    "df[\"Class\"].value_counts()"
   ]
  },
  {
   "cell_type": "markdown",
   "metadata": {},
   "source": [
    "## Huge Class Imbalance Issue:"
   ]
  },
  {
   "cell_type": "markdown",
   "metadata": {},
   "source": [
    "#### SMOTE (Synthetic Minority Oversampling Technique) to Balance Dataset  \n",
    "  \n",
    "A problem with imbalanced classification is that there are too few examples of the minority class for a model to effectively learn the decision boundary.  \n",
    "  \n",
    "One way to solve this problem is to oversample the examples in the minority class. This can be achieved by simply duplicating examples from the minority class in the training dataset prior to fitting a model. This can balance the class distribution but does not provide any additional information to the model. An improvement on duplicating examples from the minority class is to synthesize new examples from the minority class.  \n",
    "  \n",
    "SMOTE works by selecting examples that are close in the feature space, drawing a line between the examples in the feature space and drawing a new sample at a point along that line.  \n",
    "  \n",
    "We use Synthetic Minority Over-Sampling Technique(SMOTE) to overcome sample imbalance problem."
   ]
  },
  {
   "cell_type": "code",
   "execution_count": 281,
   "metadata": {},
   "outputs": [
    {
     "data": {
      "text/plain": [
       "Index(['V1', 'V2', 'V3', 'V4', 'V5', 'V6', 'V7', 'V8', 'V9', 'V10', 'V11',\n",
       "       'V12', 'V13', 'V14', 'V15', 'V16', 'V17', 'V18', 'V19', 'V20', 'V21',\n",
       "       'V22', 'V23', 'V24', 'V25', 'V26', 'V27', 'V28', 'Amount', 'Class'],\n",
       "      dtype='object')"
      ]
     },
     "execution_count": 281,
     "metadata": {},
     "output_type": "execute_result"
    }
   ],
   "source": [
    "df.columns"
   ]
  },
  {
   "cell_type": "code",
   "execution_count": 282,
   "metadata": {},
   "outputs": [
    {
     "name": "stdout",
     "output_type": "stream",
     "text": [
      "Class distribution before SMOTE:\n",
      "Class\n",
      "0    220148\n",
      "1       382\n",
      "Name: count, dtype: int64\n",
      "\n",
      "Class distribution after SMOTE:\n",
      "Class\n",
      "0    220148\n",
      "1    220148\n",
      "Name: count, dtype: int64\n"
     ]
    }
   ],
   "source": [
    "# Split the data into training and testing sets\n",
    "X_train, X_test, y_train, y_test = train_test_split(X, y, test_size=0.2, random_state=42)\n",
    "\n",
    "# Display class distribution before applying SMOTE\n",
    "print(\"Class distribution before SMOTE:\")\n",
    "print(y_train.value_counts())\n",
    "\n",
    "# Apply SMOTE to the training set\n",
    "smote = SMOTE(random_state=42)\n",
    "X_train_resampled, y_train_resampled = smote.fit_resample(X_train, y_train)\n",
    "\n",
    "# Display class distribution after applying SMOTE\n",
    "print(\"\\nClass distribution after SMOTE:\")\n",
    "print(pd.Series(y_train_resampled).value_counts())\n",
    "\n",
    "# Now you can use X_train_resampled and y_train_resampled for training your model"
   ]
  },
  {
   "cell_type": "code",
   "execution_count": 283,
   "metadata": {},
   "outputs": [
    {
     "data": {
      "text/html": [
       "<div>\n",
       "<style scoped>\n",
       "    .dataframe tbody tr th:only-of-type {\n",
       "        vertical-align: middle;\n",
       "    }\n",
       "\n",
       "    .dataframe tbody tr th {\n",
       "        vertical-align: top;\n",
       "    }\n",
       "\n",
       "    .dataframe thead th {\n",
       "        text-align: right;\n",
       "    }\n",
       "</style>\n",
       "<table border=\"1\" class=\"dataframe\">\n",
       "  <thead>\n",
       "    <tr style=\"text-align: right;\">\n",
       "      <th></th>\n",
       "      <th>V1</th>\n",
       "      <th>V2</th>\n",
       "      <th>V3</th>\n",
       "      <th>V4</th>\n",
       "      <th>V5</th>\n",
       "      <th>V6</th>\n",
       "      <th>V7</th>\n",
       "      <th>V8</th>\n",
       "      <th>V9</th>\n",
       "      <th>V10</th>\n",
       "      <th>...</th>\n",
       "      <th>V20</th>\n",
       "      <th>V21</th>\n",
       "      <th>V22</th>\n",
       "      <th>V23</th>\n",
       "      <th>V24</th>\n",
       "      <th>V25</th>\n",
       "      <th>V26</th>\n",
       "      <th>V27</th>\n",
       "      <th>V28</th>\n",
       "      <th>Amount</th>\n",
       "    </tr>\n",
       "  </thead>\n",
       "  <tbody>\n",
       "    <tr>\n",
       "      <th>0</th>\n",
       "      <td>-0.697561</td>\n",
       "      <td>0.948635</td>\n",
       "      <td>-0.265964</td>\n",
       "      <td>0.232319</td>\n",
       "      <td>2.234194</td>\n",
       "      <td>3.852625</td>\n",
       "      <td>-0.207872</td>\n",
       "      <td>1.360338</td>\n",
       "      <td>-0.780520</td>\n",
       "      <td>-0.483250</td>\n",
       "      <td>...</td>\n",
       "      <td>0.089137</td>\n",
       "      <td>-0.041381</td>\n",
       "      <td>-0.234344</td>\n",
       "      <td>-0.225184</td>\n",
       "      <td>1.016926</td>\n",
       "      <td>0.380123</td>\n",
       "      <td>-0.203681</td>\n",
       "      <td>0.008106</td>\n",
       "      <td>0.036948</td>\n",
       "      <td>19.13</td>\n",
       "    </tr>\n",
       "    <tr>\n",
       "      <th>1</th>\n",
       "      <td>1.264899</td>\n",
       "      <td>0.049540</td>\n",
       "      <td>-0.952775</td>\n",
       "      <td>-0.070600</td>\n",
       "      <td>2.065511</td>\n",
       "      <td>3.424647</td>\n",
       "      <td>-0.528821</td>\n",
       "      <td>0.854294</td>\n",
       "      <td>-0.038103</td>\n",
       "      <td>0.022971</td>\n",
       "      <td>...</td>\n",
       "      <td>-0.000144</td>\n",
       "      <td>-0.327823</td>\n",
       "      <td>-1.124423</td>\n",
       "      <td>0.106592</td>\n",
       "      <td>0.943713</td>\n",
       "      <td>0.444564</td>\n",
       "      <td>-0.678490</td>\n",
       "      <td>0.031086</td>\n",
       "      <td>0.027166</td>\n",
       "      <td>9.95</td>\n",
       "    </tr>\n",
       "    <tr>\n",
       "      <th>2</th>\n",
       "      <td>-0.715606</td>\n",
       "      <td>0.513689</td>\n",
       "      <td>0.961015</td>\n",
       "      <td>-1.198394</td>\n",
       "      <td>0.583521</td>\n",
       "      <td>-0.829520</td>\n",
       "      <td>1.320615</td>\n",
       "      <td>-0.439369</td>\n",
       "      <td>0.047655</td>\n",
       "      <td>0.408184</td>\n",
       "      <td>...</td>\n",
       "      <td>0.260249</td>\n",
       "      <td>-0.127502</td>\n",
       "      <td>0.058932</td>\n",
       "      <td>-0.101983</td>\n",
       "      <td>0.020072</td>\n",
       "      <td>-0.306188</td>\n",
       "      <td>0.765075</td>\n",
       "      <td>0.049670</td>\n",
       "      <td>-0.194371</td>\n",
       "      <td>48.76</td>\n",
       "    </tr>\n",
       "    <tr>\n",
       "      <th>3</th>\n",
       "      <td>-2.139310</td>\n",
       "      <td>2.097059</td>\n",
       "      <td>-0.022686</td>\n",
       "      <td>1.456046</td>\n",
       "      <td>-1.022387</td>\n",
       "      <td>-0.087631</td>\n",
       "      <td>-0.754045</td>\n",
       "      <td>1.604350</td>\n",
       "      <td>-1.025693</td>\n",
       "      <td>-0.911668</td>\n",
       "      <td>...</td>\n",
       "      <td>-0.457860</td>\n",
       "      <td>0.226124</td>\n",
       "      <td>0.268603</td>\n",
       "      <td>-0.026230</td>\n",
       "      <td>0.126653</td>\n",
       "      <td>0.009085</td>\n",
       "      <td>-0.258654</td>\n",
       "      <td>-0.702756</td>\n",
       "      <td>-0.163966</td>\n",
       "      <td>14.99</td>\n",
       "    </tr>\n",
       "    <tr>\n",
       "      <th>4</th>\n",
       "      <td>-3.026331</td>\n",
       "      <td>1.801124</td>\n",
       "      <td>-1.896878</td>\n",
       "      <td>-2.520847</td>\n",
       "      <td>0.718708</td>\n",
       "      <td>3.298411</td>\n",
       "      <td>-1.318774</td>\n",
       "      <td>1.332548</td>\n",
       "      <td>-0.953841</td>\n",
       "      <td>1.280528</td>\n",
       "      <td>...</td>\n",
       "      <td>-0.349800</td>\n",
       "      <td>0.232285</td>\n",
       "      <td>-1.248408</td>\n",
       "      <td>0.180337</td>\n",
       "      <td>0.949543</td>\n",
       "      <td>0.119986</td>\n",
       "      <td>0.203583</td>\n",
       "      <td>-0.131442</td>\n",
       "      <td>-0.253182</td>\n",
       "      <td>49.99</td>\n",
       "    </tr>\n",
       "  </tbody>\n",
       "</table>\n",
       "<p>5 rows × 29 columns</p>\n",
       "</div>"
      ],
      "text/plain": [
       "         V1        V2        V3        V4        V5        V6        V7  \\\n",
       "0 -0.697561  0.948635 -0.265964  0.232319  2.234194  3.852625 -0.207872   \n",
       "1  1.264899  0.049540 -0.952775 -0.070600  2.065511  3.424647 -0.528821   \n",
       "2 -0.715606  0.513689  0.961015 -1.198394  0.583521 -0.829520  1.320615   \n",
       "3 -2.139310  2.097059 -0.022686  1.456046 -1.022387 -0.087631 -0.754045   \n",
       "4 -3.026331  1.801124 -1.896878 -2.520847  0.718708  3.298411 -1.318774   \n",
       "\n",
       "         V8        V9       V10  ...       V20       V21       V22       V23  \\\n",
       "0  1.360338 -0.780520 -0.483250  ...  0.089137 -0.041381 -0.234344 -0.225184   \n",
       "1  0.854294 -0.038103  0.022971  ... -0.000144 -0.327823 -1.124423  0.106592   \n",
       "2 -0.439369  0.047655  0.408184  ...  0.260249 -0.127502  0.058932 -0.101983   \n",
       "3  1.604350 -1.025693 -0.911668  ... -0.457860  0.226124  0.268603 -0.026230   \n",
       "4  1.332548 -0.953841  1.280528  ... -0.349800  0.232285 -1.248408  0.180337   \n",
       "\n",
       "        V24       V25       V26       V27       V28  Amount  \n",
       "0  1.016926  0.380123 -0.203681  0.008106  0.036948   19.13  \n",
       "1  0.943713  0.444564 -0.678490  0.031086  0.027166    9.95  \n",
       "2  0.020072 -0.306188  0.765075  0.049670 -0.194371   48.76  \n",
       "3  0.126653  0.009085 -0.258654 -0.702756 -0.163966   14.99  \n",
       "4  0.949543  0.119986  0.203583 -0.131442 -0.253182   49.99  \n",
       "\n",
       "[5 rows x 29 columns]"
      ]
     },
     "execution_count": 283,
     "metadata": {},
     "output_type": "execute_result"
    }
   ],
   "source": [
    "X_train_resampled.head()"
   ]
  },
  {
   "cell_type": "code",
   "execution_count": 284,
   "metadata": {},
   "outputs": [
    {
     "data": {
      "image/png": "[encoded data removed]",
      "text/plain": [
       "<Figure size 1400x600 with 1 Axes>"
      ]
     },
     "metadata": {},
     "output_type": "display_data"
    }
   ],
   "source": [
    "X_train_resampled.iloc[:, :-1].boxplot(figsize=(14,6))\n",
    "plt.show();"
   ]
  },
  {
   "cell_type": "code",
   "execution_count": null,
   "metadata": {},
   "outputs": [],
   "source": []
  }
 ],
 "metadata": {
  "kernelspec": {
   "display_name": "Python 3",
   "language": "python",
   "name": "python3"
  },
  "language_info": {
   "codemirror_mode": {
    "name": "ipython",
    "version": 3
   },
   "file_extension": ".py",
   "mimetype": "text/x-python",
   "name": "python",
   "nbconvert_exporter": "python",
   "pygments_lexer": "ipython3",
   "version": "3.8.17"
  },
  "orig_nbformat": 4
 },
 "nbformat": 4,
 "nbformat_minor": 2
}
